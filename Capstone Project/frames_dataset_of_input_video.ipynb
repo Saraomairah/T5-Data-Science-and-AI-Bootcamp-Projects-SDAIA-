{
  "nbformat": 4,
  "nbformat_minor": 0,
  "metadata": {
    "colab": {
      "provenance": []
    },
    "kernelspec": {
      "name": "python3",
      "display_name": "Python 3"
    },
    "language_info": {
      "name": "python"
    }
  },
  "cells": [
    {
      "cell_type": "code",
      "source": [
        "!pip install gdown ultralytics datasets"
      ],
      "metadata": {
        "colab": {
          "base_uri": "https://localhost:8080/"
        },
        "collapsed": true,
        "id": "gIq-gnAXuFgk",
        "outputId": "27c50812-c84e-46b7-973e-4c1ae6c89f30"
      },
      "execution_count": 1,
      "outputs": [
        {
          "output_type": "stream",
          "name": "stdout",
          "text": [
            "Requirement already satisfied: gdown in /usr/local/lib/python3.10/dist-packages (5.2.0)\n",
            "Requirement already satisfied: beautifulsoup4 in /usr/local/lib/python3.10/dist-packages (from gdown) (4.12.3)\n",
            "Requirement already satisfied: filelock in /usr/local/lib/python3.10/dist-packages (from gdown) (3.16.1)\n",
            "Requirement already satisfied: requests[socks] in /usr/local/lib/python3.10/dist-packages (from gdown) (2.32.3)\n",
            "Requirement already satisfied: tqdm in /usr/local/lib/python3.10/dist-packages (from gdown) (4.66.5)\n",
            "Requirement already satisfied: soupsieve>1.2 in /usr/local/lib/python3.10/dist-packages (from beautifulsoup4->gdown) (2.6)\n",
            "Requirement already satisfied: charset-normalizer<4,>=2 in /usr/local/lib/python3.10/dist-packages (from requests[socks]->gdown) (3.3.2)\n",
            "Requirement already satisfied: idna<4,>=2.5 in /usr/local/lib/python3.10/dist-packages (from requests[socks]->gdown) (3.10)\n",
            "Requirement already satisfied: urllib3<3,>=1.21.1 in /usr/local/lib/python3.10/dist-packages (from requests[socks]->gdown) (2.2.3)\n",
            "Requirement already satisfied: certifi>=2017.4.17 in /usr/local/lib/python3.10/dist-packages (from requests[socks]->gdown) (2024.8.30)\n",
            "Requirement already satisfied: PySocks!=1.5.7,>=1.5.6 in /usr/local/lib/python3.10/dist-packages (from requests[socks]->gdown) (1.7.1)\n"
          ]
        }
      ]
    },
    {
      "cell_type": "code",
      "source": [
        "from datasets import load_dataset\n",
        "import gdown\n",
        "from PIL import Image\n",
        "import numpy as np\n",
        "from google.colab.patches import cv2_imshow\n",
        "from huggingface_hub import hf_hub_download\n",
        "from ultralytics import YOLO\n",
        "import cv2\n",
        "import os\n",
        "import csv\n",
        "import zipfile"
      ],
      "metadata": {
        "id": "FOSkJ1k7dTO4"
      },
      "execution_count": null,
      "outputs": []
    },
    {
      "cell_type": "markdown",
      "source": [
        "## Load the video"
      ],
      "metadata": {
        "id": "D88cAXKkex4U"
      }
    },
    {
      "cell_type": "code",
      "source": [
        "file_id = '1S5qMlRNeybqaWqntvcpLUjDnlgMB5ITe'\n",
        "url = f'https://drive.google.com/uc?id={file_id}'\n",
        "\n",
        "output = 'input_video.mov'\n",
        "\n",
        "gdown.download(url, output, quiet=False)"
      ],
      "metadata": {
        "colab": {
          "base_uri": "https://localhost:8080/",
          "height": 122
        },
        "collapsed": true,
        "id": "0dVF_3QUuCXB",
        "outputId": "cb227c45-5585-4271-d1cf-829a32e19818"
      },
      "execution_count": 2,
      "outputs": [
        {
          "output_type": "stream",
          "name": "stderr",
          "text": [
            "Downloading...\n",
            "From (original): https://drive.google.com/uc?id=1S5qMlRNeybqaWqntvcpLUjDnlgMB5ITe\n",
            "From (redirected): https://drive.google.com/uc?id=1S5qMlRNeybqaWqntvcpLUjDnlgMB5ITe&confirm=t&uuid=8c5948ef-50de-4c39-a19f-8d273c13e05f\n",
            "To: /content/input_video.mov\n",
            "100%|██████████| 288M/288M [00:03<00:00, 75.5MB/s]\n"
          ]
        },
        {
          "output_type": "execute_result",
          "data": {
            "text/plain": [
              "'input_video.mov'"
            ],
            "application/vnd.google.colaboratory.intrinsic+json": {
              "type": "string"
            }
          },
          "metadata": {},
          "execution_count": 2
        }
      ]
    },
    {
      "cell_type": "markdown",
      "source": [
        "## Function to extract frames from a video"
      ],
      "metadata": {
        "id": "kh4JSgzHdm56"
      }
    },
    {
      "cell_type": "code",
      "execution_count": 3,
      "metadata": {
        "id": "PBq7N2z2twDy"
      },
      "outputs": [],
      "source": [
        "def extract_frames(video_path, output_folder):\n",
        "    # Create the output folder if it doesn't exist\n",
        "    if not os.path.exists(output_folder):\n",
        "        os.makedirs(output_folder)\n",
        "\n",
        "    cap = cv2.VideoCapture(video_path)\n",
        "    frame_count = 0\n",
        "\n",
        "    while cap.isOpened():\n",
        "        ret, frame = cap.read()\n",
        "\n",
        "        if not ret:\n",
        "            break\n",
        "\n",
        "        frame_path = os.path.join(output_folder, f\"frame_{frame_count}.jpg\")\n",
        "        cv2.imwrite(frame_path, frame)\n",
        "\n",
        "        frame_count += 1\n",
        "\n",
        "    cap.release()\n",
        "\n",
        "video_path = \"/content/input_video.mov\"\n",
        "output_folder = \"frames_of_input_video\"\n",
        "\n",
        "extract_frames(video_path, output_folder)"
      ]
    },
    {
      "cell_type": "markdown",
      "source": [
        "## Create a Zip file"
      ],
      "metadata": {
        "id": "BZrw5KoBdu3g"
      }
    },
    {
      "cell_type": "code",
      "source": [
        "def zip_folder(folder_path, output_zip):\n",
        "    with zipfile.ZipFile(output_zip, 'w', zipfile.ZIP_DEFLATED) as zipf:\n",
        "        for root, _, files in os.walk(folder_path):\n",
        "            for file in files:\n",
        "                file_path = os.path.join(root, file)\n",
        "                zipf.write(file_path, os.path.relpath(file_path, folder_path))\n",
        "\n",
        "output_folder = \"/content/frames_of_input_video\"\n",
        "output_zip = \"frames_of_input_video.zip\"\n",
        "\n",
        "zip_folder(output_folder, output_zip)"
      ],
      "metadata": {
        "id": "Wb3jant93Dw4"
      },
      "execution_count": 4,
      "outputs": []
    },
    {
      "cell_type": "markdown",
      "source": [
        "## Count Number of frames"
      ],
      "metadata": {
        "id": "STmurMJ_d63J"
      }
    },
    {
      "cell_type": "code",
      "source": [
        "def count_files_in_folder(folder_path):\n",
        "    # Initialize a counter for the number of files\n",
        "    file_count = 0\n",
        "\n",
        "    # Iterate through the files in the folder\n",
        "    for _, _, files in os.walk(folder_path):\n",
        "        file_count += len(files)\n",
        "\n",
        "    return file_count\n",
        "\n",
        "num_files = count_files_in_folder(output_folder)\n",
        "\n",
        "print(f\"Number of frames: {num_files}\")"
      ],
      "metadata": {
        "colab": {
          "base_uri": "https://localhost:8080/"
        },
        "id": "79WoFt8-6li7",
        "outputId": "3e6c4743-3510-41a4-c558-19d190292f0a"
      },
      "execution_count": 6,
      "outputs": [
        {
          "output_type": "stream",
          "name": "stdout",
          "text": [
            "Number of frames: 2471\n"
          ]
        }
      ]
    },
    {
      "cell_type": "markdown",
      "source": [
        "# After that Load the dataset (`frames_of_input_video.zip`) to Hugging Face Datasets"
      ],
      "metadata": {
        "id": "5bEz0dhXeHhm"
      }
    }
  ]
}